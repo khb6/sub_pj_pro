{
  "nbformat": 4,
  "nbformat_minor": 0,
  "metadata": {
    "colab": {
      "provenance": [],
      "authorship_tag": "ABX9TyN1vRjWictZWQWdLMOmHW5r",
      "include_colab_link": true
    },
    "kernelspec": {
      "name": "python3",
      "display_name": "Python 3"
    },
    "language_info": {
      "name": "python"
    }
  },
  "cells": [
    {
      "cell_type": "markdown",
      "metadata": {
        "id": "view-in-github",
        "colab_type": "text"
      },
      "source": [
        "<a href=\"https://colab.research.google.com/github/khb6/video-processing/blob/07/07_1.ipynb\" target=\"_parent\"><img src=\"https://colab.research.google.com/assets/colab-badge.svg\" alt=\"Open In Colab\"/></a>"
      ]
    },
    {
      "cell_type": "code",
      "execution_count": null,
      "metadata": {
        "id": "Kp5cCwesAPgI"
      },
      "outputs": [],
      "source": [
        "from google.colab import drive\n",
        "import cv2\n",
        "from google.colab.patches import cv2_imshow\n",
        "import numpy as np\n",
        "import matplotlib.pyplot as plt"
      ]
    },
    {
      "cell_type": "code",
      "source": [
        "drive.mount('/content/gdrive')"
      ],
      "metadata": {
        "colab": {
          "base_uri": "https://localhost:8080/"
        },
        "id": "uwvwE-0HAToZ",
        "outputId": "643b0415-4614-4838-a0d7-f6ad6a6904cb"
      },
      "execution_count": null,
      "outputs": [
        {
          "output_type": "stream",
          "name": "stdout",
          "text": [
            "Mounted at /content/gdrive\n"
          ]
        }
      ]
    },
    {
      "cell_type": "code",
      "source": [
        "import cv2\n",
        "import matplotlib.pyplot as plt\n",
        "\n",
        "img = cv2.imread('/content/gdrive/My Drive/pj1/영상이미지/Images/shrinking.bmp')\n",
        "RGB_Img = cv2.cvtColor(img, cv2.COLOR_BGR2RGB)\n",
        "\n",
        "gImg = cv2.cvtColor(RGB_Img, cv2.COLOR_BGR2GRAY)\n",
        "print(gImg.shape)\n",
        "plt.imshow(gImg, cmap='gray')  # cmap 파라미터를 'gray'로 설정\n",
        "plt.axis('off')  # 축 숨기기 (선택 사항)\n",
        "plt.show()"
      ],
      "metadata": {
        "colab": {
          "base_uri": "https://localhost:8080/",
          "height": 424
        },
        "id": "50H_B46uAWBo",
        "outputId": "fe6a666c-11a0-431f-e69e-27c233b84783"
      },
      "execution_count": null,
      "outputs": [
        {
          "output_type": "stream",
          "name": "stdout",
          "text": [
            "(256, 256)\n"
          ]
        },
        {
          "output_type": "display_data",
          "data": {
            "text/plain": [
              "<Figure size 640x480 with 1 Axes>"
            ],
            "image/png": "[encoded data removed]"
          },
          "metadata": {}
        }
      ]
    },
    {
      "cell_type": "code",
      "source": [
        "outImg = cv2.resize(gImg, None, fx = 0.5, fy=0.5, interpolation=cv2.INTER_NEAREST)\n",
        "\n",
        "cv2_imshow(outImg)"
      ],
      "metadata": {
        "colab": {
          "base_uri": "https://localhost:8080/",
          "height": 145
        },
        "id": "mcH5yT3cAnnR",
        "outputId": "291f808b-4a77-40ff-b294-01cdbb703774"
      },
      "execution_count": null,
      "outputs": [
        {
          "output_type": "display_data",
          "data": {
            "text/plain": [
              "<PIL.Image.Image image mode=L size=128x128>"
            ],
            "image/png": "[encoded data removed]",
            "image/jpeg": "[encoded data removed]"
          },
          "metadata": {}
        }
      ]
    },
    {
      "cell_type": "code",
      "source": [
        "#outImg = cv2.resize(gImg, None, fx = 0.5, fy=0.5, interpolation=cv2.INTER_NEAREST)\n",
        "#outImg = cv2.resize(gImg, None, fx = 0.3, fy=0.3, interpolation=cv2.INTER_LINEAR)\n",
        "outImg = cv2.resize(gImg, None, fx = 0.3, fy=0.3, interpolation=cv2.INTER_CUBIC)\n",
        "\n",
        "cv2_imshow(outImg)"
      ],
      "metadata": {
        "colab": {
          "base_uri": "https://localhost:8080/",
          "height": 94
        },
        "id": "O5lqlqsoBaf6",
        "outputId": "d2995f46-e269-4222-b983-17a94f920f6e"
      },
      "execution_count": null,
      "outputs": [
        {
          "output_type": "display_data",
          "data": {
            "text/plain": [
              "<PIL.Image.Image image mode=L size=77x77>"
            ],
            "image/png": "[encoded data removed]",
            "image/jpeg": "[encoded data removed]"
          },
          "metadata": {}
        }
      ]
    },
    {
      "cell_type": "code",
      "source": [
        "blurImg = cv2.GaussianBlur(gImg, (3,3), 1)\n",
        "#outImg = cv2.resize(gImg, None, fx = 0.5, fy=0.5, interpolation=cv2.INTER_NEAREST)\n",
        "#outImg = cv2.resize(gImg, None, fx = 0.3, fy=0.3, interpolation=cv2.INTER_LINEAR)\n",
        "#outImg = cv2.resize(gImg, None, fx = 0.3, fy=0.3, interpolation=cv2.INTER_CUBIC)\n",
        "\n",
        "cv2_imshow(outImg)"
      ],
      "metadata": {
        "colab": {
          "base_uri": "https://localhost:8080/",
          "height": 94
        },
        "id": "Iw0_fcyjBvj6",
        "outputId": "b807ba0f-c90e-4a64-eaa8-55b1fde91eb3"
      },
      "execution_count": null,
      "outputs": [
        {
          "output_type": "display_data",
          "data": {
            "text/plain": [
              "<PIL.Image.Image image mode=L size=77x77>"
            ],
            "image/png": "[encoded data removed]",
            "image/jpeg": "[encoded data removed]"
          },
          "metadata": {}
        }
      ]
    }
  ]
}